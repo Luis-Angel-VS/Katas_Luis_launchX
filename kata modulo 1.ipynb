{
 "cells": [
  {
   "cell_type": "markdown",
   "metadata": {},
   "source": [
    "## programa: fecha "
   ]
  },
  {
   "cell_type": "code",
   "execution_count": 1,
   "metadata": {},
   "outputs": [
    {
     "name": "stdout",
     "output_type": "stream",
     "text": [
      "el fecha de hoy es: 2022-02-17\n"
     ]
    }
   ],
   "source": [
    "from datetime import date \n",
    "date.today()\n",
    "print('el fecha de hoy es: '+ str(date.today()))"
   ]
  },
  {
   "cell_type": "markdown",
   "metadata": {},
   "source": [
    "## convertidor de unidades"
   ]
  },
  {
   "cell_type": "code",
   "execution_count": 17,
   "metadata": {},
   "outputs": [
    {
     "name": "stdout",
     "output_type": "stream",
     "text": [
      "20 parcecs son: 65.2312 años luz\n",
      "el fecha de hoy es: 2022-02-17\n"
     ]
    }
   ],
   "source": [
    "parsecs = 20\n",
    "añoLuz = 3.26156 * parsecs\n",
    "print(str(parsecs)  + ' parcecs son: ' + str(añoLuz) + ' años luz')"
   ]
  }
 ],
 "metadata": {
  "interpreter": {
   "hash": "4be1181ec3e9bca2e1bc5c4d1d51912ae234c082c2e115f59a7ac49f7bd7f5ba"
  },
  "kernelspec": {
   "display_name": "Python 3.10.2 64-bit (windows store)",
   "language": "python",
   "name": "python3"
  },
  "language_info": {
   "codemirror_mode": {
    "name": "ipython",
    "version": 3
   },
   "file_extension": ".py",
   "mimetype": "text/x-python",
   "name": "python",
   "nbconvert_exporter": "python",
   "pygments_lexer": "ipython3",
   "version": "3.10.2"
  },
  "orig_nbformat": 4
 },
 "nbformat": 4,
 "nbformat_minor": 2
}
