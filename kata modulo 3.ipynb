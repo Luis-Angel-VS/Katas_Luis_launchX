{
 "cells": [
  {
   "cell_type": "markdown",
   "metadata": {},
   "source": [
    "## declaraciones de if, else y elif"
   ]
  },
  {
   "cell_type": "markdown",
   "metadata": {},
   "source": [
    "ejercicio 1"
   ]
  },
  {
   "cell_type": "code",
   "execution_count": 29,
   "metadata": {},
   "outputs": [
    {
     "name": "stdout",
     "output_type": "stream",
     "text": [
      "a es mayor que b\n"
     ]
    }
   ],
   "source": [
    "a = 20\n",
    "b = 17\n",
    "if a >= b:\n",
    "    print('a es mayor que b')"
   ]
  },
  {
   "cell_type": "markdown",
   "metadata": {},
   "source": [
    "ejercicio 2"
   ]
  },
  {
   "cell_type": "code",
   "execution_count": 53,
   "metadata": {},
   "outputs": [
    {
     "name": "stdout",
     "output_type": "stream",
     "text": [
      "z es mayor que m y p \n"
     ]
    }
   ],
   "source": [
    "# ejercicio 2\n",
    "\n",
    "z = 96\n",
    "m = 36\n",
    "p = 78\n",
    "\n",
    "if z < p:\n",
    "    if m <= 38:\n",
    "        print('z es mayor que m y p ')\n",
    "    else:\n",
    "        print('m es el menor de todos')\n",
    "elif p == 78:\n",
    "    print('p es igual a 78 ')\n",
    "else:\n",
    "    print('la suma es: ' + str(z + m + p))\n",
    "\n"
   ]
  },
  {
   "cell_type": "markdown",
   "metadata": {},
   "source": [
    "ejercicio del asteroide"
   ]
  },
  {
   "cell_type": "code",
   "execution_count": 82,
   "metadata": {},
   "outputs": [
    {
     "name": "stdout",
     "output_type": "stream",
     "text": [
      "¡precaucion!\n",
      "¡ALERTA DE ASTEROIDE! \n",
      "impacto a más de 49 KM/S!\n"
     ]
    }
   ],
   "source": [
    "vel_superior_asteroide = 25\n",
    "asteroide_velocidad_actual = (49)\n",
    "\n",
    "if asteroide_velocidad_actual > vel_superior_asteroide:\n",
    "    print('¡precaucion!\\n¡ALERTA DE ASTEROIDE! \\nimpacto a más de ' + str(asteroide_velocidad_actual) + ' KM/S!')\n",
    "else:\n",
    "    print('asteroide cercano. \\nsin peligro de impacto, siga con su rutina.')"
   ]
  },
  {
   "cell_type": "markdown",
   "metadata": {},
   "source": [
    "ejercicio asteroide 2"
   ]
  },
  {
   "cell_type": "code",
   "execution_count": 90,
   "metadata": {},
   "outputs": [
    {
     "name": "stdout",
     "output_type": "stream",
     "text": [
      "mire el cielo, hay un bello rayo de luz provocado por un asteroide\n"
     ]
    }
   ],
   "source": [
    "velocidad_atm_limite = 20\n",
    "velocidad_asteroide_actual = 19\n",
    "rayo_de_luz = velocidad_atm_limite\n",
    "if velocidad_asteroide_actual == velocidad_atm_limite:\n",
    "    print('mire el cielo, hay un bello rayo de luz provocado por un asteroide')\n",
    "elif velocidad_asteroide_actual > velocidad_atm_limite:\n",
    "    print('mire el cielo, hay un bello rayo de luz provocado por un asteroide')\n",
    "else:\n",
    "    print('asteroide cercano pero no perceptible')\n"
   ]
  },
  {
   "cell_type": "markdown",
   "metadata": {},
   "source": [
    "ejercicio asteroide 3"
   ]
  },
  {
   "cell_type": "code",
   "execution_count": 160,
   "metadata": {},
   "outputs": [
    {
     "name": "stdout",
     "output_type": "stream",
     "text": [
      "*************¡PELIGRO!**********\n",
      "         ¡impacto de asteroide!\n",
      "*************¡CUIDADO!***************\n",
      "**asteroide cercano\n",
      "*velocidad de 28 KM/S\n",
      "*tamaño de 78 Metros\n",
      "*****OBSERVE EL HERMOSO RAYO DE LUZ DEL ASTEROIDE***************\n"
     ]
    }
   ],
   "source": [
    "atm_resistencia = 25\n",
    "tamaño_asteroide = (78)\n",
    "vel_superior_luz_asteroide = 20\n",
    "velocidad_asteroide = (28)\n",
    "velocidad_advertencia = 25\n",
    "if  tamaño_asteroide < atm_resistencia or tamaño_asteroide == 25: \n",
    "    print('******sin riesgo de impacto de asteroide.********')\n",
    "elif tamaño_asteroide > atm_resistencia and tamaño_asteroide > 25 and tamaño_asteroide < 1000:\n",
    "    print('*************¡PELIGRO!**********\\n         ¡impacto de asteroide!')\n",
    "\n",
    "if velocidad_asteroide > velocidad_advertencia:\n",
    "    print('*************¡CUIDADO!***************\\n**asteroide cercano\\n*velocidad de ' + str(velocidad_asteroide) + ' KM/S\\n' + '*tamaño de ' + str(tamaño_asteroide) +' Metros')\n",
    "if velocidad_asteroide >= vel_superior_luz_asteroide and tamaño_asteroide > 10:\n",
    "    print('*****OBSERVE EL HERMOSO RAYO DE LUZ DEL ASTEROIDE***************')\n",
    "    "
   ]
  }
 ],
 "metadata": {
  "interpreter": {
   "hash": "4be1181ec3e9bca2e1bc5c4d1d51912ae234c082c2e115f59a7ac49f7bd7f5ba"
  },
  "kernelspec": {
   "display_name": "Python 3.10.2 64-bit (windows store)",
   "language": "python",
   "name": "python3"
  },
  "language_info": {
   "codemirror_mode": {
    "name": "ipython",
    "version": 3
   },
   "file_extension": ".py",
   "mimetype": "text/x-python",
   "name": "python",
   "nbconvert_exporter": "python",
   "pygments_lexer": "ipython3",
   "version": "3.10.2"
  },
  "orig_nbformat": 4
 },
 "nbformat": 4,
 "nbformat_minor": 2
}
